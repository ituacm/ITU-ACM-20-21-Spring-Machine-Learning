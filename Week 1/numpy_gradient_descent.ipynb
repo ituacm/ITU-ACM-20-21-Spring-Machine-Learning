{
 "cells": [
  {
   "cell_type": "code",
   "execution_count": 1,
   "metadata": {
    "id": "mX2S3ZwmpT3U"
   },
   "outputs": [],
   "source": [
    "import numpy as np\n",
    "%matplotlib inline\n",
    "import matplotlib.pyplot as plt"
   ]
  },
  {
   "cell_type": "markdown",
   "metadata": {
    "id": "bCu3Iu5Gevfp"
   },
   "source": [
    "# Numpy Tutorial"
   ]
  },
  {
   "cell_type": "markdown",
   "metadata": {
    "id": "5lJpgNy3evfr"
   },
   "source": [
    "## array creation"
   ]
  },
  {
   "cell_type": "code",
   "execution_count": null,
   "metadata": {
    "id": "Z80h_Ck4evfr",
    "outputId": "f3c5a567-4283-4252-eb26-920ef630c647"
   },
   "outputs": [
    {
     "data": {
      "text/plain": [
       "array([1, 2, 3, 4])"
      ]
     },
     "execution_count": 4,
     "metadata": {
      "tags": []
     },
     "output_type": "execute_result"
    }
   ],
   "source": [
    "# pass a list\n",
    "a = np.array([1, 2, 3, 4])\n",
    "a"
   ]
  },
  {
   "cell_type": "code",
   "execution_count": null,
   "metadata": {
    "id": "EoDPwF-pevft",
    "outputId": "781e0fc2-6bb2-4471-f676-76339e0cbb6e"
   },
   "outputs": [
    {
     "data": {
      "text/plain": [
       "array([1, 2, 3, 4])"
      ]
     },
     "execution_count": 5,
     "metadata": {
      "tags": []
     },
     "output_type": "execute_result"
    }
   ],
   "source": [
    "# pass a list\n",
    "lst = [1, 2, 3, 4]\n",
    "a = np.array(lst)\n",
    "a"
   ]
  },
  {
   "cell_type": "code",
   "execution_count": null,
   "metadata": {
    "id": "5dBOQ5urevft",
    "outputId": "1ccc164d-6889-4e7b-c63b-5bffba9e6b55"
   },
   "outputs": [
    {
     "data": {
      "text/plain": [
       "array([1, 2, 3, 4])"
      ]
     },
     "execution_count": 16,
     "metadata": {
      "tags": []
     },
     "output_type": "execute_result"
    }
   ],
   "source": [
    "# pass a tuple\n",
    "a = np.array((1, 2, 3, 4))\n",
    "a"
   ]
  },
  {
   "cell_type": "code",
   "execution_count": null,
   "metadata": {
    "id": "GDWcwdiDevfu",
    "outputId": "06e0040a-589f-499c-b837-15dc0484bfea"
   },
   "outputs": [
    {
     "name": "stdout",
     "output_type": "stream",
     "text": [
      "[1 2 3 4]\n",
      "[1. 2. 3. 4.]\n"
     ]
    }
   ],
   "source": [
    "# arrays with different datatypes\n",
    "int_a = np.array(lst, dtype=np.int64)\n",
    "flt_a = np.array(lst, dtype=np.float64)\n",
    "print(int_a)\n",
    "print(flt_a)"
   ]
  },
  {
   "cell_type": "code",
   "execution_count": null,
   "metadata": {
    "id": "PY8IOeRRevfu",
    "outputId": "c094344b-ab29-4dc7-d93d-c8ec71e8fa2a"
   },
   "outputs": [
    {
     "name": "stdout",
     "output_type": "stream",
     "text": [
      "(4,)\n",
      "4\n",
      "int32\n"
     ]
    }
   ],
   "source": [
    "## some properties\n",
    "print(a.shape)\n",
    "print(a.size) # number of elements\n",
    "print(a.dtype) # datatype"
   ]
  },
  {
   "cell_type": "code",
   "execution_count": null,
   "metadata": {
    "id": "JyMPhzd9evfv",
    "outputId": "4216fd5b-5209-46e5-c6fb-7abb7dbd640c"
   },
   "outputs": [
    {
     "name": "stdout",
     "output_type": "stream",
     "text": [
      "int64\n",
      "float64\n"
     ]
    }
   ],
   "source": [
    "# datatypes\n",
    "print(int_a.dtype)\n",
    "print(flt_a.dtype)"
   ]
  },
  {
   "cell_type": "code",
   "execution_count": null,
   "metadata": {
    "id": "czp-680Ievfw",
    "outputId": "048918b9-ff2f-4399-c483-365e28ae8937"
   },
   "outputs": [
    {
     "name": "stdout",
     "output_type": "stream",
     "text": [
      "[[1 2 3]\n",
      " [4 5 6]]\n"
     ]
    }
   ],
   "source": [
    "# 2D arrays\n",
    "a_2d = np.array([[1, 2, 3],\n",
    "                 [4, 5, 6]])\n",
    "print(a_2d)"
   ]
  },
  {
   "cell_type": "code",
   "execution_count": null,
   "metadata": {
    "id": "FtEbs4Zrevfw",
    "outputId": "4624b681-fb77-4bd1-b12c-973edc46da87"
   },
   "outputs": [
    {
     "name": "stdout",
     "output_type": "stream",
     "text": [
      "(2, 3)\n"
     ]
    }
   ],
   "source": [
    "print(a_2d.shape)"
   ]
  },
  {
   "cell_type": "markdown",
   "metadata": {
    "id": "s_bZSqKQevfw"
   },
   "source": [
    "### Different array creation types"
   ]
  },
  {
   "cell_type": "code",
   "execution_count": null,
   "metadata": {
    "id": "30saGHSxevfx",
    "outputId": "36c11779-60a7-4a34-94b1-54733eea9826"
   },
   "outputs": [
    {
     "name": "stdout",
     "output_type": "stream",
     "text": [
      "[1 2 3 4 5 6 7 8 9]\n",
      "\n",
      "[0.  0.1 0.2 0.3 0.4 0.5 0.6 0.7 0.8 0.9]\n"
     ]
    }
   ],
   "source": [
    "# a range of values\n",
    "a = np.arange(1, 10) # from 1 to 10 (10 is not included)\n",
    "print(a)\n",
    "print()\n",
    "\n",
    "b = np.arange(0, 1, 0.1) # with 0.1 step\n",
    "print(b)"
   ]
  },
  {
   "cell_type": "code",
   "execution_count": null,
   "metadata": {
    "id": "vvtVq87vevfx",
    "outputId": "ce96660e-e0df-4711-a342-52e91966c68b"
   },
   "outputs": [
    {
     "name": "stdout",
     "output_type": "stream",
     "text": [
      "[ 0.   2.5  5.   7.5 10. ]\n",
      "float64\n"
     ]
    }
   ],
   "source": [
    "# in a range and specific number count\n",
    "a = np.linspace(0, 10, 5)\n",
    "print(a)\n",
    "print(a.dtype)"
   ]
  },
  {
   "cell_type": "code",
   "execution_count": null,
   "metadata": {
    "id": "Nc2O9PkQevfy",
    "outputId": "8c5ec71e-19c8-403a-c55f-e01b1a03095a"
   },
   "outputs": [
    {
     "name": "stdout",
     "output_type": "stream",
     "text": [
      "[[0.87355269 0.17595773]\n",
      " [0.97515027 0.10199969]\n",
      " [0.94284959 0.17588164]]\n"
     ]
    }
   ],
   "source": [
    "# random numbers\n",
    "a = np.random.rand(3, 2) # random values between 0-1\n",
    "print(a)"
   ]
  },
  {
   "cell_type": "code",
   "execution_count": null,
   "metadata": {
    "id": "aP4G42hVevfy",
    "outputId": "80d055a5-dfd6-420a-fab4-b8ccfa0cbb91"
   },
   "outputs": [
    {
     "name": "stdout",
     "output_type": "stream",
     "text": [
      "[[6 6 3]\n",
      " [4 5 7]]\n"
     ]
    }
   ],
   "source": [
    "# random integers\n",
    "a = np.random.randint(1, 10, size=(2, 3))\n",
    "print(a)"
   ]
  },
  {
   "cell_type": "code",
   "execution_count": null,
   "metadata": {
    "id": "VuOwAQ5gevfy",
    "outputId": "bbba1bc1-d166-4666-cc7e-fe3b4153806c"
   },
   "outputs": [
    {
     "name": "stdout",
     "output_type": "stream",
     "text": [
      "[[0. 0. 0. 0.]\n",
      " [0. 0. 0. 0.]\n",
      " [0. 0. 0. 0.]]\n",
      "\n",
      "[[1. 1. 1. 1.]\n",
      " [1. 1. 1. 1.]\n",
      " [1. 1. 1. 1.]]\n"
     ]
    }
   ],
   "source": [
    "# zeros and ones\n",
    "z = np.zeros((3, 4))\n",
    "print(z)\n",
    "print()\n",
    "\n",
    "o = np.ones((3, 4))\n",
    "print(o)"
   ]
  },
  {
   "cell_type": "markdown",
   "metadata": {
    "id": "ezIVzAzpevfz"
   },
   "source": [
    "## Typecasting"
   ]
  },
  {
   "cell_type": "code",
   "execution_count": null,
   "metadata": {
    "id": "WCBulEVcevfz",
    "outputId": "5fc95ab1-2bd6-4319-dfdc-cb5afcc1246c"
   },
   "outputs": [
    {
     "name": "stdout",
     "output_type": "stream",
     "text": [
      "[1. 2. 3.]\n",
      "float64\n"
     ]
    }
   ],
   "source": [
    "a = np.array([1, 2, 3], dtype=np.int64)\n",
    "a = a.astype(np.float64)\n",
    "print(a)\n",
    "print(a.dtype)"
   ]
  },
  {
   "cell_type": "markdown",
   "metadata": {
    "id": "zpwoYa8pevfz"
   },
   "source": [
    "## Shape Manipulation"
   ]
  },
  {
   "cell_type": "code",
   "execution_count": null,
   "metadata": {
    "id": "MdtuizHGevf0",
    "outputId": "9d46f4d0-53b9-431b-811f-38f7d2cd3cc5"
   },
   "outputs": [
    {
     "name": "stdout",
     "output_type": "stream",
     "text": [
      "[[1. 1. 1. 1.]\n",
      " [1. 1. 1. 1.]\n",
      " [1. 1. 1. 1.]]\n"
     ]
    }
   ],
   "source": [
    "a = np.ones((3, 4))\n",
    "print(a)"
   ]
  },
  {
   "cell_type": "code",
   "execution_count": null,
   "metadata": {
    "id": "AxgbmtJDevf0",
    "outputId": "2546d738-4d8f-4a5b-9c9a-5bf604d8fdc8"
   },
   "outputs": [
    {
     "name": "stdout",
     "output_type": "stream",
     "text": [
      "[[1. 1. 1. 1. 1. 1.]\n",
      " [1. 1. 1. 1. 1. 1.]]\n",
      "(2, 6)\n"
     ]
    }
   ],
   "source": [
    "# reshaping\n",
    "a = a.reshape(2, 6)\n",
    "print(a)\n",
    "print(a.shape)"
   ]
  },
  {
   "cell_type": "code",
   "execution_count": null,
   "metadata": {
    "id": "SIP5NHASevf0",
    "outputId": "fb4c5a6b-6312-4b04-a7f9-3592964f64a1"
   },
   "outputs": [
    {
     "name": "stdout",
     "output_type": "stream",
     "text": [
      "[[1. 1. 1.]\n",
      " [1. 1. 1.]\n",
      " [1. 1. 1.]\n",
      " [1. 1. 1.]]\n"
     ]
    }
   ],
   "source": [
    "# reshape with one unknown shape dimension\n",
    "a = a.reshape(4, -1)\n",
    "print(a)"
   ]
  },
  {
   "cell_type": "code",
   "execution_count": null,
   "metadata": {
    "id": "LT13PaVRevf1",
    "outputId": "e2e2415a-15d0-4224-dccc-386f6c26d3db"
   },
   "outputs": [
    {
     "name": "stdout",
     "output_type": "stream",
     "text": [
      "[[1 2 3]\n",
      " [4 5 6]]\n",
      "\n",
      "[[1 4]\n",
      " [2 5]\n",
      " [3 6]]\n"
     ]
    }
   ],
   "source": [
    "# transpose\n",
    "a = np.array([[1, 2, 3],\n",
    "              [4, 5, 6]])\n",
    "print(a)\n",
    "print()\n",
    "\n",
    "a = a.T\n",
    "print(a)"
   ]
  },
  {
   "cell_type": "code",
   "execution_count": null,
   "metadata": {
    "colab": {
     "base_uri": "https://localhost:8080/"
    },
    "executionInfo": {
     "elapsed": 1309,
     "status": "ok",
     "timestamp": 1615268116922,
     "user": {
      "displayName": "yigiddo pati",
      "photoUrl": "",
      "userId": "03958096825649527138"
     },
     "user_tz": -180
    },
    "id": "hJ5DUseJevf1",
    "outputId": "a1764519-38ba-41f5-f35d-9ef3a683e9ec"
   },
   "outputs": [
    {
     "name": "stdout",
     "output_type": "stream",
     "text": [
      "[1 2 3 4 5 6]\n"
     ]
    }
   ],
   "source": [
    "# flattening\n",
    "a = np.array([[1, 2, 3],\n",
    "              [4, 5, 6]])\n",
    "a = a.ravel()\n",
    "print(a)"
   ]
  },
  {
   "cell_type": "code",
   "execution_count": null,
   "metadata": {
    "colab": {
     "base_uri": "https://localhost:8080/"
    },
    "executionInfo": {
     "elapsed": 1044,
     "status": "ok",
     "timestamp": 1615268119702,
     "user": {
      "displayName": "yigiddo pati",
      "photoUrl": "",
      "userId": "03958096825649527138"
     },
     "user_tz": -180
    },
    "id": "ISMkFraNevf2",
    "outputId": "b4d61dfa-a442-44f3-e9f3-5e8196704583"
   },
   "outputs": [
    {
     "name": "stdout",
     "output_type": "stream",
     "text": [
      "numpy standart 1D shape:\n",
      "(4,)\n",
      "[1 2 3 4]\n",
      "\n",
      "row vector:\n",
      "(1, 4)\n",
      "[[1 2 3 4]]\n",
      "\n",
      "column vector:\n",
      "(4, 1)\n",
      "[[1]\n",
      " [2]\n",
      " [3]\n",
      " [4]]\n",
      "\n"
     ]
    }
   ],
   "source": [
    "# confusion about shapes\n",
    "a = np.array([1, 2, 3, 4])\n",
    "\n",
    "print(\"numpy standart 1D shape:\")\n",
    "print(a.shape)\n",
    "print(a)\n",
    "print()\n",
    "\n",
    "# row vector\n",
    "a = a.reshape(1, -1)\n",
    "print(\"row vector:\")\n",
    "print(a.shape)\n",
    "print(a)\n",
    "print()\n",
    "\n",
    "# column vector\n",
    "a = a.reshape(-1, 1)\n",
    "print(\"column vector:\")\n",
    "print(a.shape)\n",
    "print(a)\n",
    "print()"
   ]
  },
  {
   "cell_type": "markdown",
   "metadata": {
    "id": "vrSZrKfCevf2"
   },
   "source": [
    "## Basic Operations"
   ]
  },
  {
   "cell_type": "code",
   "execution_count": null,
   "metadata": {
    "id": "-M3L2Aaievf2"
   },
   "outputs": [],
   "source": [
    "a = np.array([1, 2, 3])\n",
    "b = np.array([4, 5, 6])"
   ]
  },
  {
   "cell_type": "code",
   "execution_count": null,
   "metadata": {
    "colab": {
     "base_uri": "https://localhost:8080/"
    },
    "executionInfo": {
     "elapsed": 870,
     "status": "ok",
     "timestamp": 1615268122764,
     "user": {
      "displayName": "yigiddo pati",
      "photoUrl": "",
      "userId": "03958096825649527138"
     },
     "user_tz": -180
    },
    "id": "mQ42OCm6evf2",
    "outputId": "91f64fad-ec32-414e-fa08-6d3cec85e085"
   },
   "outputs": [
    {
     "name": "stdout",
     "output_type": "stream",
     "text": [
      "a+b: [5 7 9]\n",
      "a-b: [-3 -3 -3]\n",
      "a*b: [ 4 10 18]\n",
      "a/b: [0.25 0.4  0.5 ]\n",
      "a^2 + 1: [ 2  5 10]\n"
     ]
    }
   ],
   "source": [
    "# basic math\n",
    "print(\"a+b:\", a+b)\n",
    "print(\"a-b:\", a-b)\n",
    "print(\"a*b:\", a*b)\n",
    "print(\"a/b:\", a/b)\n",
    "print(\"a^2 + 1:\", a**2 + 1)"
   ]
  },
  {
   "cell_type": "code",
   "execution_count": null,
   "metadata": {
    "colab": {
     "base_uri": "https://localhost:8080/",
     "height": 514
    },
    "executionInfo": {
     "elapsed": 931,
     "status": "ok",
     "timestamp": 1615268142678,
     "user": {
      "displayName": "yigiddo pati",
      "photoUrl": "",
      "userId": "03958096825649527138"
     },
     "user_tz": -180
    },
    "id": "GmAHqxJcevf3",
    "outputId": "9ea4e230-d4d3-4677-c011-9a8566570c63"
   },
   "outputs": [
    {
     "data": {
      "text/plain": [
       "[<matplotlib.lines.Line2D at 0x7f68f64e0750>]"
      ]
     },
     "execution_count": 8,
     "metadata": {
      "tags": []
     },
     "output_type": "execute_result"
    },
    {
     "data": {
      "image/png": "[encoded data removed]",
      "text/plain": [
       "<Figure size 720x576 with 1 Axes>"
      ]
     },
     "metadata": {
      "needs_background": "light",
      "tags": []
     },
     "output_type": "display_data"
    }
   ],
   "source": [
    "# second degree function\n",
    "\n",
    "\n",
    "\n",
    "\n",
    "plt.figure(figsize=(10, 8))\n",
    "plt.xlabel(\"x\")\n",
    "plt.ylabel(\"y\")\n",
    "plt.axhline(0, color=\"red\")\n",
    "plt.axvline(0, color=\"red\")\n",
    "plt.plot(x, y)"
   ]
  },
  {
   "cell_type": "markdown",
   "metadata": {
    "id": "nikJxAz_evf3"
   },
   "source": [
    "## Numpy Math Functions"
   ]
  },
  {
   "cell_type": "code",
   "execution_count": null,
   "metadata": {
    "colab": {
     "base_uri": "https://localhost:8080/",
     "height": 503
    },
    "executionInfo": {
     "elapsed": 1109,
     "status": "ok",
     "timestamp": 1615268168742,
     "user": {
      "displayName": "yigiddo pati",
      "photoUrl": "",
      "userId": "03958096825649527138"
     },
     "user_tz": -180
    },
    "id": "4CAdqEDfevf4",
    "outputId": "ba1522b5-1150-4b89-9f72-70f77edac89a"
   },
   "outputs": [
    {
     "data": {
      "text/plain": [
       "<matplotlib.legend.Legend at 0x7f68f63af850>"
      ]
     },
     "execution_count": 11,
     "metadata": {
      "tags": []
     },
     "output_type": "execute_result"
    },
    {
     "data": {
      "image/png": "[encoded data removed]",
      "text/plain": [
       "<Figure size 720x576 with 1 Axes>"
      ]
     },
     "metadata": {
      "needs_background": "light",
      "tags": []
     },
     "output_type": "display_data"
    }
   ],
   "source": [
    "# trigonometric functions\n",
    "x = np.arange(-5, 5, 0.1)\n",
    "\n",
    "x_sin = np.sin(x)\n",
    "x_cos = np.cos(x)\n",
    "x_arctan = np.arctan(x)\n",
    "\n",
    "plt.figure(figsize=(10, 8))\n",
    "plt.axhline(0, color=\"red\")\n",
    "plt.axvline(0, color=\"red\")\n",
    "\n",
    "plt.plot(x, x_sin, color=\"blue\", label=\"sin\")\n",
    "plt.plot(x, x_cos, color=\"green\", label=\"cos\")\n",
    "plt.plot(x, x_arctan, color=\"orange\", label=\"arctan\")\n",
    "plt.legend()"
   ]
  },
  {
   "cell_type": "code",
   "execution_count": null,
   "metadata": {
    "colab": {
     "base_uri": "https://localhost:8080/",
     "height": 500
    },
    "executionInfo": {
     "elapsed": 1016,
     "status": "ok",
     "timestamp": 1615268175357,
     "user": {
      "displayName": "yigiddo pati",
      "photoUrl": "",
      "userId": "03958096825649527138"
     },
     "user_tz": -180
    },
    "id": "sHPCp9i8evf4",
    "outputId": "3f72b310-d592-4b02-d4fe-1c7aa9feded1"
   },
   "outputs": [
    {
     "data": {
      "text/plain": [
       "<matplotlib.legend.Legend at 0x7f68f62e9f10>"
      ]
     },
     "execution_count": 12,
     "metadata": {
      "tags": []
     },
     "output_type": "execute_result"
    },
    {
     "data": {
      "image/png": "[encoded data removed]",
      "text/plain": [
       "<Figure size 720x576 with 1 Axes>"
      ]
     },
     "metadata": {
      "needs_background": "light",
      "tags": []
     },
     "output_type": "display_data"
    }
   ],
   "source": [
    "# logarithm\n",
    "x = np.arange(0.01, 10, 0.1)\n",
    "\n",
    "x_ln = np.log(x)\n",
    "x_log10 = np.log10(x)\n",
    "\n",
    "plt.figure(figsize=(10, 8))\n",
    "plt.axhline(0, color=\"red\")\n",
    "plt.axvline(0, color=\"red\")\n",
    "\n",
    "plt.plot(x, x_ln, color=\"blue\", label=\"ln\")\n",
    "plt.plot(x, x_log10, color=\"green\", label=\"log10\")\n",
    "plt.legend()"
   ]
  },
  {
   "cell_type": "code",
   "execution_count": null,
   "metadata": {
    "colab": {
     "base_uri": "https://localhost:8080/",
     "height": 500
    },
    "executionInfo": {
     "elapsed": 887,
     "status": "ok",
     "timestamp": 1615268182261,
     "user": {
      "displayName": "yigiddo pati",
      "photoUrl": "",
      "userId": "03958096825649527138"
     },
     "user_tz": -180
    },
    "id": "Fg9CpjEoevf5",
    "outputId": "02126a72-db94-4f8e-a71e-52bd192dbcca"
   },
   "outputs": [
    {
     "data": {
      "text/plain": [
       "<matplotlib.legend.Legend at 0x7f68f62749d0>"
      ]
     },
     "execution_count": 13,
     "metadata": {
      "tags": []
     },
     "output_type": "execute_result"
    },
    {
     "data": {
      "image/png": "[encoded data removed]",
      "text/plain": [
       "<Figure size 720x576 with 1 Axes>"
      ]
     },
     "metadata": {
      "needs_background": "light",
      "tags": []
     },
     "output_type": "display_data"
    }
   ],
   "source": [
    "# exponential\n",
    "x = np.arange(-1, 3, 0.1)\n",
    "\n",
    "e_x = np.exp(x) # e^x\n",
    "two_x = 2 ** x # 2^x\n",
    "\n",
    "plt.figure(figsize=(10, 8))\n",
    "plt.axhline(0, color=\"red\")\n",
    "plt.axvline(0, color=\"red\")\n",
    "\n",
    "plt.plot(x, two_x, color=\"blue\", label=\"2^x\")\n",
    "plt.plot(x, e_x, color=\"green\", label=\"e^x\")\n",
    "plt.legend()"
   ]
  },
  {
   "cell_type": "code",
   "execution_count": null,
   "metadata": {
    "colab": {
     "base_uri": "https://localhost:8080/"
    },
    "executionInfo": {
     "elapsed": 726,
     "status": "ok",
     "timestamp": 1615268191903,
     "user": {
      "displayName": "yigiddo pati",
      "photoUrl": "",
      "userId": "03958096825649527138"
     },
     "user_tz": -180
    },
    "id": "bY3p5ndpevf5",
    "outputId": "3e37d87c-4780-482a-c66c-32eafc23876c"
   },
   "outputs": [
    {
     "name": "stdout",
     "output_type": "stream",
     "text": [
      "sum: 6\n",
      "mean: 2.0\n",
      "max: 3\n",
      "min: 1\n",
      "cumsum: [1 3 6]\n",
      "std: 0.816496580927726\n"
     ]
    }
   ],
   "source": [
    "# statictical functions\n",
    "a = np.array([1, 2, 3])\n",
    "\n",
    "# sum, mean, max, min, cumsum, std\n",
    "print(\"sum:\", np.sum(a))\n",
    "print(\"mean:\", np.mean(a))\n",
    "print(\"max:\", np.max(a))\n",
    "print(\"min:\", a.min())\n",
    "print(\"cumsum:\", np.cumsum(a))\n",
    "print(\"std:\", np.std(a))"
   ]
  },
  {
   "cell_type": "markdown",
   "metadata": {
    "id": "yi8yvSNtevf5"
   },
   "source": [
    "## Indexing"
   ]
  },
  {
   "cell_type": "code",
   "execution_count": null,
   "metadata": {
    "colab": {
     "base_uri": "https://localhost:8080/"
    },
    "executionInfo": {
     "elapsed": 422,
     "status": "ok",
     "timestamp": 1615268195566,
     "user": {
      "displayName": "yigiddo pati",
      "photoUrl": "",
      "userId": "03958096825649527138"
     },
     "user_tz": -180
    },
    "id": "vvjF2Ynyevf6",
    "outputId": "4e57cba8-2704-4951-ef7b-c0617f974537"
   },
   "outputs": [
    {
     "name": "stdout",
     "output_type": "stream",
     "text": [
      "[ 0  1  2  3  4  5  6  7  8  9 10 11]\n"
     ]
    }
   ],
   "source": [
    "a = np.arange(0, 12)\n",
    "print(a)"
   ]
  },
  {
   "cell_type": "code",
   "execution_count": null,
   "metadata": {
    "colab": {
     "base_uri": "https://localhost:8080/"
    },
    "executionInfo": {
     "elapsed": 518,
     "status": "ok",
     "timestamp": 1615268195962,
     "user": {
      "displayName": "yigiddo pati",
      "photoUrl": "",
      "userId": "03958096825649527138"
     },
     "user_tz": -180
    },
    "id": "vUJYZBA-evf6",
    "outputId": "dc556ded-0dfa-415a-809b-c5e33743170c"
   },
   "outputs": [
    {
     "name": "stdout",
     "output_type": "stream",
     "text": [
      "[3 4]\n"
     ]
    }
   ],
   "source": [
    "# basic indexing\n",
    "b = a[3:5]\n",
    "print(b)"
   ]
  },
  {
   "cell_type": "code",
   "execution_count": null,
   "metadata": {
    "colab": {
     "base_uri": "https://localhost:8080/"
    },
    "executionInfo": {
     "elapsed": 631,
     "status": "ok",
     "timestamp": 1615268196745,
     "user": {
      "displayName": "yigiddo pati",
      "photoUrl": "",
      "userId": "03958096825649527138"
     },
     "user_tz": -180
    },
    "id": "FVyVQ1Noevf6",
    "outputId": "9fec6d4b-7d1e-4404-92fb-75ab10d4165a"
   },
   "outputs": [
    {
     "name": "stdout",
     "output_type": "stream",
     "text": [
      "[[ 0  1  2  3]\n",
      " [ 4  5  6  7]\n",
      " [ 8  9 10 11]]\n",
      "\n",
      "[[4 5 6 7]]\n"
     ]
    }
   ],
   "source": [
    "# 2d indexing\n",
    "a = a.reshape(3, 4)\n",
    "print(a)\n",
    "print()\n",
    "\n",
    "b = a[0:2][1:3]\n",
    "print(b)"
   ]
  },
  {
   "cell_type": "code",
   "execution_count": null,
   "metadata": {
    "colab": {
     "base_uri": "https://localhost:8080/"
    },
    "executionInfo": {
     "elapsed": 571,
     "status": "ok",
     "timestamp": 1615268197141,
     "user": {
      "displayName": "yigiddo pati",
      "photoUrl": "",
      "userId": "03958096825649527138"
     },
     "user_tz": -180
    },
    "id": "nco3-QwJevf7",
    "outputId": "fae33205-6f32-4b49-fa3a-3569503afd35"
   },
   "outputs": [
    {
     "name": "stdout",
     "output_type": "stream",
     "text": [
      "[0 4 8]\n"
     ]
    }
   ],
   "source": [
    "b = a[:, 0]\n",
    "print(b)"
   ]
  },
  {
   "cell_type": "code",
   "execution_count": null,
   "metadata": {
    "colab": {
     "base_uri": "https://localhost:8080/"
    },
    "executionInfo": {
     "elapsed": 657,
     "status": "ok",
     "timestamp": 1615268197915,
     "user": {
      "displayName": "yigiddo pati",
      "photoUrl": "",
      "userId": "03958096825649527138"
     },
     "user_tz": -180
    },
    "id": "Ieuss5nYevf7",
    "outputId": "5e56bd41-f4b8-4f29-cece-95a940ce4b9b"
   },
   "outputs": [
    {
     "name": "stdout",
     "output_type": "stream",
     "text": [
      "[  10 1000]\n"
     ]
    }
   ],
   "source": [
    "# indexing with a list of indexes\n",
    "a = np.array([1, 10, 100, 1000])\n",
    "indices = [1, 3]\n",
    "b = a[indices]\n",
    "print(b)"
   ]
  },
  {
   "cell_type": "code",
   "execution_count": null,
   "metadata": {
    "colab": {
     "base_uri": "https://localhost:8080/"
    },
    "executionInfo": {
     "elapsed": 697,
     "status": "ok",
     "timestamp": 1615268198592,
     "user": {
      "displayName": "yigiddo pati",
      "photoUrl": "",
      "userId": "03958096825649527138"
     },
     "user_tz": -180
    },
    "id": "y7q6_GAeevf7",
    "outputId": "9768fb14-113d-46b3-9d6e-c2a417da3dd4"
   },
   "outputs": [
    {
     "name": "stdout",
     "output_type": "stream",
     "text": [
      "[1 3]\n"
     ]
    }
   ],
   "source": [
    "# boolean indexing logic\n",
    "a = np.array([1, 2, 3])\n",
    "indices = [True, False, True]\n",
    "b = a[indices]\n",
    "print(b)"
   ]
  },
  {
   "cell_type": "code",
   "execution_count": 2,
   "metadata": {
    "colab": {
     "base_uri": "https://localhost:8080/"
    },
    "executionInfo": {
     "elapsed": 393,
     "status": "ok",
     "timestamp": 1615268198836,
     "user": {
      "displayName": "yigiddo pati",
      "photoUrl": "",
      "userId": "03958096825649527138"
     },
     "user_tz": -180
    },
    "id": "WWU7-xpievf8",
    "outputId": "47a7abff-45fb-460d-db18-dc5921977fdd"
   },
   "outputs": [
    {
     "name": "stdout",
     "output_type": "stream",
     "text": [
      "[False False False  True  True]\n",
      "[4 5]\n"
     ]
    }
   ],
   "source": [
    "# boolean indexing\n",
    "a = np.array([1, 2, 3, 4, 5])\n",
    "\n",
    "indices = a > 3\n",
    "print(indices)\n",
    "print(a[indices])"
   ]
  },
  {
   "cell_type": "code",
   "execution_count": 6,
   "metadata": {
    "id": "VHwKXxXnevf8"
   },
   "outputs": [],
   "source": [
    "# even numbers\n"
   ]
  },
  {
   "cell_type": "code",
   "execution_count": 10,
   "metadata": {
    "colab": {
     "base_uri": "https://localhost:8080/"
    },
    "executionInfo": {
     "elapsed": 3155,
     "status": "ok",
     "timestamp": 1615268203178,
     "user": {
      "displayName": "yigiddo pati",
      "photoUrl": "",
      "userId": "03958096825649527138"
     },
     "user_tz": -180
    },
    "id": "7kWQbrE-evf8",
    "outputId": "3cb31f64-f3ec-4a5d-fa14-90f1e5343515"
   },
   "outputs": [
    {
     "name": "stdout",
     "output_type": "stream",
     "text": [
      "[0 0 3 4]\n"
     ]
    }
   ],
   "source": [
    "# change by boolean indexing\n",
    "a = np.array([1, 2, 3, 4])\n",
    "\n",
    "# update numbers smaller than 3 to 0\n",
    "a[a < 3] = 0\n",
    "print(a)"
   ]
  },
  {
   "cell_type": "markdown",
   "metadata": {
    "id": "v824prUcevf8"
   },
   "source": [
    "## Sorting"
   ]
  },
  {
   "cell_type": "code",
   "execution_count": null,
   "metadata": {
    "colab": {
     "base_uri": "https://localhost:8080/"
    },
    "executionInfo": {
     "elapsed": 2409,
     "status": "ok",
     "timestamp": 1615268204262,
     "user": {
      "displayName": "yigiddo pati",
      "photoUrl": "",
      "userId": "03958096825649527138"
     },
     "user_tz": -180
    },
    "id": "ZpWdx4Wfevf9",
    "outputId": "689c26f7-dad5-49a5-ae81-c33e6c1fa11c"
   },
   "outputs": [
    {
     "name": "stdout",
     "output_type": "stream",
     "text": [
      "[1 3 3 8 3]\n",
      "[1 3 3 3 8]\n"
     ]
    }
   ],
   "source": [
    "# sort an array\n",
    "a = np.random.randint(1, 10, size=5)\n",
    "a_sorted = np.sort(a)\n",
    "print(a)\n",
    "print(a_sorted)"
   ]
  },
  {
   "cell_type": "code",
   "execution_count": null,
   "metadata": {
    "colab": {
     "base_uri": "https://localhost:8080/"
    },
    "executionInfo": {
     "elapsed": 2017,
     "status": "ok",
     "timestamp": 1615268204512,
     "user": {
      "displayName": "yigiddo pati",
      "photoUrl": "",
      "userId": "03958096825649527138"
     },
     "user_tz": -180
    },
    "id": "W07ov50jevf9",
    "outputId": "618e406e-209a-4f1c-81a2-0c6605b043c2"
   },
   "outputs": [
    {
     "name": "stdout",
     "output_type": "stream",
     "text": [
      "array         : [3 1 4 2]\n",
      "sorted indices: [1 3 0 2]\n",
      "sorted array  : [1 2 3 4]\n"
     ]
    }
   ],
   "source": [
    "# sorted indices\n",
    "a = np.array([3, 1, 4, 2])\n",
    "sorted_indices = np.argsort(a)\n",
    "\n",
    "print(\"array         :\", a)\n",
    "print(\"sorted indices:\", sorted_indices)\n",
    "print(\"sorted array  :\", a[sorted_indices])"
   ]
  },
  {
   "cell_type": "markdown",
   "metadata": {
    "id": "xpVATgNuevf9"
   },
   "source": [
    "## Operations on Axes"
   ]
  },
  {
   "cell_type": "code",
   "execution_count": null,
   "metadata": {
    "colab": {
     "base_uri": "https://localhost:8080/"
    },
    "executionInfo": {
     "elapsed": 3100,
     "status": "ok",
     "timestamp": 1615268294213,
     "user": {
      "displayName": "yigiddo pati",
      "photoUrl": "",
      "userId": "03958096825649527138"
     },
     "user_tz": -180
    },
    "id": "tGWPJtTIevf9",
    "outputId": "572d7c84-2260-4b7e-b35a-4c13ef7f96e0"
   },
   "outputs": [
    {
     "name": "stdout",
     "output_type": "stream",
     "text": [
      "row wise   : [ 6 15]\n",
      "column wise: [5 7 9]\n"
     ]
    }
   ],
   "source": [
    "# sum operations\n",
    "a = np.array([[1, 2, 3],\n",
    "              [4, 5, 6]])\n",
    "\n",
    "# row wise sum\n",
    "r = np.sum(a, axis=1)\n",
    "print(\"row wise   :\", r)\n",
    "\n",
    "# column wise sum\n",
    "c = np.sum(a, axis=0)\n",
    "print(\"column wise:\", c)"
   ]
  },
  {
   "cell_type": "markdown",
   "metadata": {
    "id": "JZ6-AnsLevf-"
   },
   "source": [
    "## Broadcasting"
   ]
  },
  {
   "cell_type": "code",
   "execution_count": null,
   "metadata": {
    "colab": {
     "base_uri": "https://localhost:8080/"
    },
    "executionInfo": {
     "elapsed": 706,
     "status": "ok",
     "timestamp": 1615268317670,
     "user": {
      "displayName": "yigiddo pati",
      "photoUrl": "",
      "userId": "03958096825649527138"
     },
     "user_tz": -180
    },
    "id": "BJkVdWFcevf-",
    "outputId": "cc2c8e07-355b-433b-ddd6-3dad83d52f55"
   },
   "outputs": [
    {
     "name": "stdout",
     "output_type": "stream",
     "text": [
      "[3 4 5 6]\n"
     ]
    }
   ],
   "source": [
    "a = np.array([1, 2, 3, 4])\n",
    "b = 2\n",
    "c = a + b\n",
    "\n",
    "print(c)"
   ]
  },
  {
   "cell_type": "code",
   "execution_count": null,
   "metadata": {
    "colab": {
     "base_uri": "https://localhost:8080/"
    },
    "executionInfo": {
     "elapsed": 490,
     "status": "ok",
     "timestamp": 1615268319409,
     "user": {
      "displayName": "yigiddo pati",
      "photoUrl": "",
      "userId": "03958096825649527138"
     },
     "user_tz": -180
    },
    "id": "zzd7Z_WAevf-",
    "outputId": "74efcf5b-5cde-401e-c4fa-57995e037bb9"
   },
   "outputs": [
    {
     "name": "stdout",
     "output_type": "stream",
     "text": [
      "[[3 7]\n",
      " [5 9]]\n"
     ]
    }
   ],
   "source": [
    "# 2d broadcasting\n",
    "a = np.array([[1, 2],\n",
    "              [3, 4]])\n",
    "b = np.array([2, 5])\n",
    "\n",
    "c = a + b\n",
    "print(c)"
   ]
  },
  {
   "cell_type": "markdown",
   "metadata": {
    "id": "l4km6dgPevf_"
   },
   "source": [
    "## Linear Algebra"
   ]
  },
  {
   "cell_type": "code",
   "execution_count": null,
   "metadata": {
    "colab": {
     "base_uri": "https://localhost:8080/"
    },
    "executionInfo": {
     "elapsed": 643,
     "status": "ok",
     "timestamp": 1615268321526,
     "user": {
      "displayName": "yigiddo pati",
      "photoUrl": "",
      "userId": "03958096825649527138"
     },
     "user_tz": -180
    },
    "id": "4B11s_RWevf_",
    "outputId": "9d262683-03e4-4950-f638-47a708898356"
   },
   "outputs": [
    {
     "name": "stdout",
     "output_type": "stream",
     "text": [
      "32\n"
     ]
    }
   ],
   "source": [
    "# dot product of 1D vectors\n",
    "a = np.array([1, 2, 3])\n",
    "b = np.array([4, 5, 6])\n",
    "\n",
    "c = np.dot(a, b)\n",
    "print(c)"
   ]
  },
  {
   "cell_type": "code",
   "execution_count": null,
   "metadata": {
    "colab": {
     "base_uri": "https://localhost:8080/"
    },
    "executionInfo": {
     "elapsed": 600,
     "status": "ok",
     "timestamp": 1615268322593,
     "user": {
      "displayName": "yigiddo pati",
      "photoUrl": "",
      "userId": "03958096825649527138"
     },
     "user_tz": -180
    },
    "id": "pryvO9hgevf_",
    "outputId": "ecd4a519-b2d8-4067-d139-e838db6c3966"
   },
   "outputs": [
    {
     "name": "stdout",
     "output_type": "stream",
     "text": [
      "[[31 31]\n",
      " [67 70]]\n"
     ]
    }
   ],
   "source": [
    "## matrix product\n",
    "a = np.array([[1, 2, 3],\n",
    "              [4, 5, 6]])\n",
    "\n",
    "b = np.array([[1, 2],\n",
    "              [3, 4],\n",
    "              [8, 7]])\n",
    "\n",
    "# matrix multiplication\n",
    "c = np.dot(a, b)\n",
    "print(c)"
   ]
  },
  {
   "cell_type": "markdown",
   "metadata": {
    "id": "ThLtDgnThH8M"
   },
   "source": [
    "## Speed Comparison"
   ]
  },
  {
   "cell_type": "code",
   "execution_count": null,
   "metadata": {
    "id": "OnLXvTiiiDE0"
   },
   "outputs": [],
   "source": [
    "# create a big array\n",
    "\n"
   ]
  },
  {
   "cell_type": "code",
   "execution_count": null,
   "metadata": {
    "id": "iG50aRGTiDqM"
   },
   "outputs": [],
   "source": []
  },
  {
   "cell_type": "code",
   "execution_count": null,
   "metadata": {
    "id": "jnSmMaeNhG_g"
   },
   "outputs": [],
   "source": []
  },
  {
   "cell_type": "markdown",
   "metadata": {
    "id": "hIOMpfdwp05H"
   },
   "source": [
    "# Gradient Descent"
   ]
  },
  {
   "cell_type": "markdown",
   "metadata": {
    "id": "GvDVlT3RtNQ5"
   },
   "source": [
    "Repeat for some number of iterations: <br>\n",
    "$$\n",
    "\\omega^+ = \\omega - \\alpha.\\frac{dJ}{d\\omega}\n",
    "$$"
   ]
  },
  {
   "cell_type": "markdown",
   "metadata": {
    "id": "Klxgv7yzpT3Y"
   },
   "source": [
    "## Apply Gradient Descent"
   ]
  },
  {
   "cell_type": "code",
   "execution_count": null,
   "metadata": {
    "id": "CEoUULs4pT3Y"
   },
   "outputs": [],
   "source": [
    "# define function and derivative of it\n",
    "\n"
   ]
  },
  {
   "cell_type": "code",
   "execution_count": null,
   "metadata": {
    "id": "gBBu-im7pT3Y"
   },
   "outputs": [],
   "source": [
    "# pick an interval and find values\n",
    "\n",
    "\n",
    "\n",
    "\n",
    "# visualize Function\n",
    "plt.figure(figsize=(10, 8))\n",
    "plt.axhline(0, color=\"red\")\n",
    "plt.axvline(0, color=\"red\")\n",
    "plt.plot(interval, values, color=\"blue\", label=\"function\")\n",
    "plt.plot(interval, d_values, color=\"green\", label=\"derivative\")\n",
    "plt.legend()"
   ]
  },
  {
   "cell_type": "markdown",
   "metadata": {
    "id": "nXG9LDWczEkA"
   },
   "source": [
    "Gradient Descent in this case: <br>\n",
    "$$\n",
    "x^+ = x - \\alpha.\\frac{dy}{dx}\n",
    "$$"
   ]
  },
  {
   "cell_type": "code",
   "execution_count": null,
   "metadata": {
    "id": "tzhQ__lptkiE",
    "scrolled": true
   },
   "outputs": [],
   "source": [
    "# find minima by applying gradient descent\n",
    "\n",
    "\n"
   ]
  },
  {
   "cell_type": "code",
   "execution_count": null,
   "metadata": {},
   "outputs": [],
   "source": [
    "# to plot directions with arrows\n",
    "from matplotlib.patches import ConnectionPatch"
   ]
  },
  {
   "cell_type": "code",
   "execution_count": null,
   "metadata": {
    "id": "S5918qbkevgB"
   },
   "outputs": [],
   "source": [
    "# function: plot gradient descent and it's steps \n",
    "\n",
    "\n"
   ]
  },
  {
   "cell_type": "code",
   "execution_count": null,
   "metadata": {},
   "outputs": [],
   "source": [
    "# ## plot arrows code\n",
    "# ax = plt.gca()\n",
    "\n",
    "# for i in range(len(x_values)-1):\n",
    "#     xyA = (x_values[i], y_values[i])\n",
    "#     xyB = (x_values[i+1], y_values[i+1])\n",
    "#     coordsA = \"data\"\n",
    "#     coordsB = \"data\"\n",
    "\n",
    "#     con = ConnectionPatch(xyA, xyB, coordsA, coordsB,\n",
    "#                           arrowstyle=\"->\", shrinkA=5, shrinkB=5,\n",
    "#                           mutation_scale=20, fc=\"w\", color=\"red\", linewidth=2)\n",
    "#     ax.plot([xyA[0], xyB[0]], [xyA[1], xyB[1]], \"o\", c=\"red\")\n",
    "#     ax.add_artist(con)"
   ]
  },
  {
   "cell_type": "markdown",
   "metadata": {
    "id": "uqylxkKUevgC"
   },
   "source": [
    "## Ideal Gradient Descent"
   ]
  },
  {
   "cell_type": "code",
   "execution_count": null,
   "metadata": {
    "id": "Uayt221QevgC"
   },
   "outputs": [],
   "source": []
  },
  {
   "cell_type": "markdown",
   "metadata": {
    "id": "EwaHO1sRevgC"
   },
   "source": [
    "## Very Small Steps (cannot converge)"
   ]
  },
  {
   "cell_type": "code",
   "execution_count": null,
   "metadata": {
    "id": "OcLS0rTgevgC"
   },
   "outputs": [],
   "source": []
  },
  {
   "cell_type": "markdown",
   "metadata": {
    "id": "USPWc29fevgD"
   },
   "source": [
    "## Diverging (Very Big Steps)"
   ]
  },
  {
   "cell_type": "code",
   "execution_count": null,
   "metadata": {
    "id": "hJ4-KBkMevgD"
   },
   "outputs": [],
   "source": []
  },
  {
   "cell_type": "markdown",
   "metadata": {
    "id": "e_uw-qF1evgD"
   },
   "source": [
    "## Sin function"
   ]
  },
  {
   "cell_type": "code",
   "execution_count": null,
   "metadata": {
    "id": "UKSS4LPLevgD"
   },
   "outputs": [],
   "source": []
  },
  {
   "cell_type": "code",
   "execution_count": null,
   "metadata": {
    "id": "7uVYoDHCevgD"
   },
   "outputs": [],
   "source": []
  },
  {
   "cell_type": "code",
   "execution_count": null,
   "metadata": {
    "id": "R5RggG_vevgD"
   },
   "outputs": [],
   "source": []
  },
  {
   "cell_type": "code",
   "execution_count": null,
   "metadata": {
    "id": "SdoK_FOSevgE"
   },
   "outputs": [],
   "source": []
  },
  {
   "cell_type": "code",
   "execution_count": null,
   "metadata": {
    "id": "5RLWO_vuevgE"
   },
   "outputs": [],
   "source": []
  },
  {
   "cell_type": "markdown",
   "metadata": {
    "id": "x4SxJOJ6pT3d"
   },
   "source": [
    "## Gradient Descent with multiple variables"
   ]
  },
  {
   "cell_type": "code",
   "execution_count": null,
   "metadata": {
    "id": "FcQPBJuEpT3d"
   },
   "outputs": [],
   "source": [
    "# functions and derivatives\n",
    "\n",
    "\n",
    "\n"
   ]
  },
  {
   "cell_type": "code",
   "execution_count": null,
   "metadata": {
    "id": "d8CRlRjnpT3e"
   },
   "outputs": [],
   "source": [
    "# Applying Gradient Descent\n",
    "\n",
    "\n",
    "\n",
    "\n"
   ]
  },
  {
   "cell_type": "markdown",
   "metadata": {
    "id": "-E3koDITwQG0"
   },
   "source": [
    "### 3D plot"
   ]
  },
  {
   "cell_type": "code",
   "execution_count": null,
   "metadata": {
    "id": "roldpTaP1VoF"
   },
   "outputs": [],
   "source": [
    "# on jupyter notebook, uncomment below line\n",
    "#%matplotlib notebook"
   ]
  },
  {
   "cell_type": "code",
   "execution_count": null,
   "metadata": {
    "id": "cqAbAcWYwMtV"
   },
   "outputs": [],
   "source": [
    "from matplotlib import cm\n",
    "from matplotlib.ticker import LinearLocator"
   ]
  },
  {
   "cell_type": "code",
   "execution_count": null,
   "metadata": {
    "colab": {
     "base_uri": "https://localhost:8080/",
     "height": 466
    },
    "executionInfo": {
     "elapsed": 5590,
     "status": "ok",
     "timestamp": 1615389282002,
     "user": {
      "displayName": "yigiddo pati",
      "photoUrl": "",
      "userId": "03958096825649527138"
     },
     "user_tz": -180
    },
    "id": "6Z2_GRTrpT3e",
    "outputId": "f2c56e6d-27b0-4387-bbe3-d12e9cc27097"
   },
   "outputs": [
    {
     "data": {
      "image/png": "[encoded data removed]",
      "text/plain": [
       "<Figure size 720x576 with 2 Axes>"
      ]
     },
     "metadata": {
      "needs_background": "light",
      "tags": []
     },
     "output_type": "display_data"
    }
   ],
   "source": [
    "# 3D plot of function\n",
    "fig, ax = plt.subplots(subplot_kw={\"projection\": \"3d\"}, figsize=(10, 8))\n",
    "\n",
    "# Make data.\n",
    "X = np.arange(-5, 5, 0.25)\n",
    "Y = np.arange(-5, 5, 0.25)\n",
    "X, Y = np.meshgrid(X, Y)\n",
    "Z = np.zeros_like(X)\n",
    "for i in range(Z.shape[0]):\n",
    "    for j in range(Z.shape[1]):\n",
    "        Z[i][j] = f(X[i][j], Y[i][j])\n",
    "\n",
    "# Plot the surface.\n",
    "surf = ax.plot_surface(X, Y, Z, cmap=cm.coolwarm,\n",
    "                       linewidth=0, antialiased=False)\n",
    "\n",
    "# Customize the z axis.\n",
    "ax.zaxis.set_major_locator(LinearLocator(10))\n",
    "\n",
    "# Add a color bar which maps values to colors.\n",
    "fig.colorbar(surf, shrink=0.5, aspect=5)\n",
    "\n",
    "ax.set_xlabel(\"X\")\n",
    "ax.set_ylabel(\"Y\")\n",
    "ax.set_zlabel(\"Z\")\n",
    "\n",
    "## Apply gradient descent and plot points\n",
    "\n",
    "\n",
    "\n",
    "\n",
    "plt.show()"
   ]
  },
  {
   "cell_type": "markdown",
   "metadata": {
    "id": "feqtsx0ipT3e"
   },
   "source": [
    "## Gradient Descent With Momentum"
   ]
  },
  {
   "cell_type": "markdown",
   "metadata": {
    "id": "ONOKmtfZU9lM"
   },
   "source": [
    "Momentum Formula: <br>\n",
    "$\n",
    "\\gamma: \\mbox{Momentum coefficient} \\\\\n",
    "u: \\mbox{Update} \\\\\n",
    "$\n",
    "$$\n",
    "u^+ = \\alpha.\\frac{dJ}{d\\omega} + \\gamma.u \\\\\n",
    "\\omega^+ = \\omega - u^+\n",
    "$$"
   ]
  },
  {
   "cell_type": "code",
   "execution_count": null,
   "metadata": {
    "id": "vJ3DFb2lVLT9"
   },
   "outputs": [],
   "source": [
    "# function: plot gradient descent with momentum and it's steps \n",
    "\n",
    "\n"
   ]
  },
  {
   "cell_type": "code",
   "execution_count": null,
   "metadata": {
    "id": "VehJW54iVLRN"
   },
   "outputs": [],
   "source": []
  },
  {
   "cell_type": "code",
   "execution_count": null,
   "metadata": {
    "id": "dlUUl9-0Ww8d"
   },
   "outputs": [],
   "source": []
  },
  {
   "cell_type": "code",
   "execution_count": null,
   "metadata": {
    "id": "QRfPH_-cWxHS"
   },
   "outputs": [],
   "source": []
  },
  {
   "cell_type": "code",
   "execution_count": null,
   "metadata": {
    "id": "Xfw7GQiZpT3e"
   },
   "outputs": [],
   "source": []
  },
  {
   "cell_type": "code",
   "execution_count": null,
   "metadata": {
    "id": "udhj1G42pT3e"
   },
   "outputs": [],
   "source": []
  },
  {
   "cell_type": "code",
   "execution_count": null,
   "metadata": {
    "id": "0-4Il8Bnpabi"
   },
   "outputs": [],
   "source": []
  },
  {
   "cell_type": "code",
   "execution_count": null,
   "metadata": {
    "id": "xvwY6XEwrJwD"
   },
   "outputs": [],
   "source": []
  },
  {
   "cell_type": "code",
   "execution_count": null,
   "metadata": {
    "id": "9F-gXYhu-ibU"
   },
   "outputs": [],
   "source": []
  }
 ],
 "metadata": {
  "colab": {
   "collapsed_sections": [
    "bCu3Iu5Gevfp",
    "hIOMpfdwp05H"
   ],
   "name": "gradient_descent.ipynb",
   "provenance": []
  },
  "kernelspec": {
   "display_name": "Python 3",
   "language": "python",
   "name": "python3"
  },
  "language_info": {
   "codemirror_mode": {
    "name": "ipython",
    "version": 3
   },
   "file_extension": ".py",
   "mimetype": "text/x-python",
   "name": "python",
   "nbconvert_exporter": "python",
   "pygments_lexer": "ipython3",
   "version": "3.7.5"
  }
 },
 "nbformat": 4,
 "nbformat_minor": 1
}
